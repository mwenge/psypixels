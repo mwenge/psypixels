{
 "cells": [
  {
   "cell_type": "markdown",
   "id": "efa88644",
   "metadata": {},
   "source": [
    "# Add index references for keywords"
   ]
  },
  {
   "cell_type": "markdown",
   "id": "4bab1c31",
   "metadata": {},
   "source": [
    "Ideally we will run this once when the book is finished"
   ]
  },
  {
   "cell_type": "code",
   "execution_count": 13,
   "id": "f1b15988",
   "metadata": {},
   "outputs": [],
   "source": [
    "chapters = [\n",
    "    \"listing.tex\",\n",
    "    \"listing_pattern.tex\",\n",
    "    \"listing_commentary.tex\",\n",
    "    \"fullgame_listing.tex\",\n",
    "    \"patterns.tex\",\n",
    "    \"symmetries.tex\",\n",
    "    \"bursts.tex\",\n",
    "    \"sequencer.tex\",\n",
    "    \"presets.tex\",\n",
    "    \"delay.tex\",\n",
    "    \"tracking.tex\",\n",
    "    \"pulsespeed.tex\",\n",
    "    \"linewidth.tex\",\n",
    "    \"aftereffects.tex\",\n",
    "    \"listing_commentary/psychedelia_listing.tex\",\n",
    "    \"listing_commentary/full_psychedelia_listing.tex\",\n",
    "    \"after_effects/batalyx_listing.tex\",\n",
    "]\n",
    "keywords = [\n",
    "    \"PaintStructureAtCurrentPosition\",\n",
    "    \"LaunchPsychedelia\",\n",
    "    \"MainInterruptHandler\",\n",
    "    \"MainLoop\",\n",
    "    \"PaintPixelForCurrentSymmetry\",\n",
    "    \"pixelXPositionArray\",\n",
    "    \"pixelYPositionArray\",\n",
    "    \"starOneXPosArray\",\n",
    "    \"starOneYPosArray\",\n",
    "    \"presetColorValuesArray\",\n",
    "    \"pixelXPositionLoPtrArray\",\n",
    "    \"pixelXPositionHiPtrArray\",\n",
    "    \"smoothingDelay\",\n",
    "    \"currentSymmetrySetting\",\n",
    "    \"PaintLineMode\",\n",
    "]"
   ]
  },
  {
   "cell_type": "code",
   "execution_count": 15,
   "id": "c7e88fe9",
   "metadata": {},
   "outputs": [],
   "source": [
    "import os\n",
    "\n",
    "src_dir = \"../src/\"\n",
    "for chapter in chapters:\n",
    "    esc = \"\"\n",
    "    lines_out = []\n",
    "    fname = src_dir + os.sep + chapter\n",
    "    lines = open(fname,'r').readlines()\n",
    "    for l in lines:\n",
    "        for k in keywords:\n",
    "            l = l.replace(k, k + esc + \"\\\\index{\" + k + \"}\" + esc)\n",
    "\n",
    "        if \"begin{lstlisting}\" in l:\n",
    "            esc = \"%\"\n",
    "            if \"]\" in l:\n",
    "                l = l.replace(\"]\",\",escapechar=\\%]\")\n",
    "            else:\n",
    "                l = l.replace(\"}\",\"}[escapechar=\\%]\")\n",
    "        if \"end{lstlisting}\" in l:\n",
    "            esc = \"\"\n",
    "        lines_out += [l]\n",
    "    open(fname,'w').writelines(lines_out)\n"
   ]
  }
 ],
 "metadata": {
  "kernelspec": {
   "display_name": "Python 3 (ipykernel)",
   "language": "python",
   "name": "python3"
  },
  "language_info": {
   "codemirror_mode": {
    "name": "ipython",
    "version": 3
   },
   "file_extension": ".py",
   "mimetype": "text/x-python",
   "name": "python",
   "nbconvert_exporter": "python",
   "pygments_lexer": "ipython3",
   "version": "3.10.12"
  }
 },
 "nbformat": 4,
 "nbformat_minor": 5
}
