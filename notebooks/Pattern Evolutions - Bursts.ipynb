{
 "cells": [
  {
   "cell_type": "markdown",
   "metadata": {},
   "source": [
    "# Make Volumetric Graphs of Bursts"
   ]
  },
  {
   "cell_type": "code",
   "execution_count": 1,
   "metadata": {},
   "outputs": [],
   "source": [
    "colors_base = {\n",
    "\"00\":\"c64_black\",  \n",
    "\"01\":\"c64_white\",  \n",
    "\"02\":\"c64_red\",    \n",
    "\"03\":\"c64_cyan\",   \n",
    "\"04\":\"c64_purple\", \n",
    "\"05\":\"c64_green\",  \n",
    "\"06\":\"c64_blue\",   \n",
    "\"07\":\"c64_yellow\", \n",
    "\"08\":\"c64_orange\", \n",
    "\"09\":\"c64_brown\",  \n",
    "\"0a\":\"c64_ltred\",  \n",
    "\"0b\":\"c64_gray1\",  \n",
    "\"0c\":\"c64_lightgray\",  \n",
    "\"0d\":\"c64_ltgreen\",\n",
    "\"0e\":\"c64_ltblue\", \n",
    "\"0f\":\"c64_gray3\",  \n",
    "}\n",
    "colors = [v for k,v in colors_base.items()]\n",
    "    \n",
    "c64_to_rgb = {\n",
    "\"c64_black\": \"#000000\",     \n",
    "\"c64_white\": \"#ffffff\",     \n",
    "\"c64_red\": \"#880000\",       \n",
    "\"c64_cyan\":  \"#aaffee\",     \n",
    "\"c64_purple\": \"#cc44cc\",    \n",
    "\"c64_green\": \"#00cc55\",     \n",
    "#\"c64_blue\":  \"#0000aa\",     \n",
    "\"c64_blue\":  \"#0088ff\",     \n",
    "\"c64_yellow\":  \"#eeee77\",   \n",
    "\"c64_orange\":  \"#dd8855\",   \n",
    "\"c64_brown\": \"#664400\",     \n",
    "\"c64_ltred\": \"#ff7777\",  \n",
    "\"c64_gray1\":  \"#333333\",    \n",
    "\"c64_ltgreen\": \"#aaff66\",\n",
    "\"c64_ltblue\":  \"#0088ff\",\n",
    "\"c64_lightgrey\": \"#bbbbbb\", \n",
    "\"c64_lightgray\": \"#bbbbbb\", \n",
    "\"c64_gray3\": \"#bbbbbb\",                             \n",
    "}\n"
   ]
  },
  {
   "cell_type": "markdown",
   "metadata": {},
   "source": [
    "Run the following command:\n",
    "```sh\n",
    "~/Dev/vice-emu-code/vice/src/x64sc -directory ~/Dev/vice-emu-code/vice/data/ -moncommands painttrace.txt bin/psychedelia.prg \n",
    "```\n",
    "Where `painttrace.txt` is:\n",
    "\n",
    "```\n",
    "log on\n",
    "logname \"PsychedeliaIndividualPatterns.txt\"\n",
    "tr exec 0973\n",
    "command 1 \"mem d800 dbff\"\n",
    "```"
   ]
  },
  {
   "cell_type": "markdown",
   "metadata": {},
   "source": [
    "Read in the ram history."
   ]
  },
  {
   "cell_type": "code",
   "execution_count": 11,
   "metadata": {},
   "outputs": [],
   "source": [
    "log_file = \"PsychedeliaBurstPaintTrace.txt\"\n",
    "input_file = open(log_file,'r')\n",
    "\n",
    "ram_history = []\n",
    "lines = input_file.readlines()\n",
    "c = 0\n",
    "for i in range(5, len(lines), 67):\n",
    "    raw_ram = [l[9:60].split() for l in lines[i:i+64]]\n",
    "    raw_ram = [int(v,16) & 0x0f for l in raw_ram for v in l]\n",
    "    color_ram = list(reversed([raw_ram[v:v+40] for v in range(0, len(raw_ram), 40)]))[2:]\n",
    "    ram_history += [color_ram]\n",
    "    c += 1\n"
   ]
  },
  {
   "cell_type": "markdown",
   "metadata": {},
   "source": [
    "Slice up the ram history into the different patterns."
   ]
  },
  {
   "cell_type": "code",
   "execution_count": 12,
   "metadata": {},
   "outputs": [],
   "source": [
    "flatten = lambda l: [e for sublist in l for e in sublist]\n",
    "\n",
    "pattern_breaks = []\n",
    "for i,h in enumerate(ram_history):\n",
    "    num_pixels = sum(flatten(h))\n",
    "    if num_pixels > 1:\n",
    "        continue\n",
    "    pattern_breaks += [i]\n",
    "\n",
    "patterns = []\n",
    "pp = 0\n",
    "for p in pattern_breaks:\n",
    "    patterns += [ram_history[pp:p]]\n",
    "    pp = p\n"
   ]
  },
  {
   "cell_type": "markdown",
   "metadata": {},
   "source": [
    "Methods for culling the pixel data to just the volume that's occupied."
   ]
  },
  {
   "cell_type": "code",
   "execution_count": 5,
   "metadata": {},
   "outputs": [],
   "source": [
    "def firstNonZero(l):\n",
    "    for i,e in enumerate(l):\n",
    "        if e > 0:\n",
    "            return i\n",
    "    return i\n",
    "\n",
    "def getLeftMostPixelForPattern(pattern):\n",
    "    return min([firstNonZero(r) for scr in pattern for r in scr])\n",
    "\n",
    "def getRightMostPixelForPattern(pattern):\n",
    "    return len(pattern[0][0]) - min([firstNonZero(list(reversed(r)))\n",
    "                     for scr in pattern for r in scr])\n",
    "\n",
    "def rotatePatternToCols(pattern):\n",
    "    pattern_cols = []\n",
    "    for scr in pattern:\n",
    "        col_arr = [[0 for i in range(len(scr))] for j in range(len(scr[0]))]\n",
    "        for i,r in enumerate(scr):\n",
    "            for j,v in enumerate(r):\n",
    "                col_arr[j][i] = v\n",
    "        pattern_cols += [col_arr]\n",
    "    return pattern_cols\n",
    "\n",
    "def cullPattern(pattern):\n",
    "    first_left = getLeftMostPixelForPattern(pattern)\n",
    "    last_right = getRightMostPixelForPattern(pattern)\n",
    "    width = last_right - first_left\n",
    "\n",
    "    pattern_as_cols = rotatePatternToCols(pattern)\n",
    "    first_top = getLeftMostPixelForPattern(pattern_as_cols)\n",
    "    last_bottom = getRightMostPixelForPattern(pattern_as_cols)\n",
    "    height = last_bottom - first_top\n",
    "    \n",
    "    culled = [[r[first_left:last_right] \n",
    "              for r in scr[first_top:last_bottom]]\n",
    "              for scr in pattern]\n",
    "    return culled\n",
    "\n",
    "#cullPattern(patterns[0])\n",
    "#patterns[0]"
   ]
  },
  {
   "cell_type": "code",
   "execution_count": 17,
   "metadata": {},
   "outputs": [],
   "source": [
    "import matplotlib.pyplot as plt\n",
    "from PIL import Image\n",
    "from matplotlib.colors import LightSource"
   ]
  },
  {
   "cell_type": "code",
   "execution_count": 20,
   "metadata": {},
   "outputs": [],
   "source": [
    "import numpy as np\n",
    "plt.rcParams[\"figure.figsize\"] = (80,80)\n",
    "plt.rcParams['figure.dpi'] = 20\n",
    "\n",
    "def explode(data):\n",
    "    size = np.array(data.shape)*2\n",
    "    data_e = np.zeros(size - 1, dtype=data.dtype)\n",
    "    data_e[::2, ::2, ::2] = data\n",
    "    return data_e\n",
    "\n",
    "def createVoxelData(screens):\n",
    "    # prepare some coordinates\n",
    "    width = len(screens[0][0])\n",
    "    height = len (screens[0])\n",
    "    x, y, z = np.indices((width,height,len(screens)))\n",
    "    voxelarray = np.zeros((width,height,len(screens)), dtype=bool)\n",
    "    colorarray = np.empty(voxelarray.shape, dtype=object)\n",
    "    for zp,screen in enumerate(screens):\n",
    "        for yp, row in enumerate(screen):\n",
    "            for xp, col in enumerate(row):\n",
    "                # Skip black, white and gray cells\n",
    "                if col in [0,1,0x0c]:\n",
    "                    continue\n",
    "                cube = (x == xp) & (y == yp) & (z == zp)\n",
    "                voxelarray |= cube\n",
    "                color = c64_to_rgb[colors[col]]\n",
    "                colorarray[cube] = color+\"c0\"\n",
    "\n",
    "    # upscale the above voxel image, leaving gaps\n",
    "    filled_2 = explode(voxelarray)\n",
    "    ecolors_2 = explode(colorarray)\n",
    "\n",
    "    # Shrink the gaps\n",
    "    x, y, z = np.indices(np.array(filled_2.shape) + 1).astype(float) // 2\n",
    "    x[0::2, :, :] += 0.10\n",
    "    y[:, 0::2, :] += 0.10\n",
    "    z[:, :, 0::2] += 0.10\n",
    "    x[1::2, :, :] += 0.90\n",
    "    y[:, 1::2, :] += 0.90\n",
    "    z[:, :, 1::2] += 0.90\n",
    "\n",
    "    return ((x,y,z), filled_2, ecolors_2)"
   ]
  },
  {
   "cell_type": "code",
   "execution_count": 8,
   "metadata": {},
   "outputs": [],
   "source": [
    "def fig2img(fig):\n",
    "    \"\"\"Convert a Matplotlib figure to a PIL Image and return it\"\"\"\n",
    "    import io\n",
    "    buf = io.BytesIO()\n",
    "    fig.savefig(buf)\n",
    "    buf.seek(0)\n",
    "    img = Image.open(buf)\n",
    "    return img\n",
    "\n"
   ]
  },
  {
   "cell_type": "markdown",
   "metadata": {},
   "source": [
    " Finally, write out our visualisation of each pattern evolution."
   ]
  },
  {
   "cell_type": "code",
   "execution_count": 28,
   "metadata": {},
   "outputs": [],
   "source": [
    "# Select our pattern\n",
    "#screens = cullPattern(patterns[5])\n",
    "import os\n",
    "import gc\n",
    "\n",
    "for i, screens in enumerate([cullPattern(p) for p in patterns if len(p) > 1]):\n",
    "    for azim in [-45,-225]:\n",
    "        if os.path.isfile(f'patterns/bursts/pattern{i}{azim}.png'):\n",
    "            continue\n",
    "        ((x,y,z), voxels, vcolors) = createVoxelData(screens)\n",
    "\n",
    "        # and plot everything\n",
    "        ax = plt.figure().add_subplot(projection='3d')\n",
    "        ls = LightSource(45)\n",
    "        ax.voxels(x,y,z,voxels, facecolors=vcolors, edgecolors=vcolors,lightsource=ls)\n",
    "        ax.axis('off')\n",
    "        ax.view_init(azim=azim, vertical_axis='y')\n",
    "        img = fig2img(plt.gcf())\n",
    "        im1 = None\n",
    "        if azim == -45:\n",
    "            im1 = img.crop((img.width/5, img.height/5, \n",
    "                            (img.width/7) * 6, (img.height/5) * 4))\n",
    "        else:\n",
    "            OFFSET = 150\n",
    "            im1 = img.crop(((img.width/5) - OFFSET, (img.height/5) - OFFSET,\n",
    "                            ((img.width/7) * 6) - OFFSET, ((img.height/5) * 4) - OFFSET))\n",
    "        newImage = []\n",
    "        for item in im1.getdata():\n",
    "            if item[:3] == (255, 255, 255):\n",
    "                newImage.append((255, 255, 255, 0))\n",
    "            else:\n",
    "                newImage.append(item)\n",
    "\n",
    "        im1.putdata(newImage)\n",
    "        im1.save(f'patterns/bursts/pattern{i}{azim}.png')\n",
    "        plt.clf()\n",
    "        del voxels, vcolors\n",
    "        plt.close()\n",
    "        gc.collect()\n"
   ]
  },
  {
   "cell_type": "code",
   "execution_count": null,
   "metadata": {},
   "outputs": [],
   "source": [
    "\n",
    "\n",
    "\n",
    "\n",
    "\n",
    "\n",
    "\n",
    "\n",
    "\n",
    "\n",
    "\n",
    "\n",
    "\n",
    "\n",
    "\n",
    "\n",
    "\n"
   ]
  }
 ],
 "metadata": {
  "kernelspec": {
   "display_name": "Python 3",
   "language": "python",
   "name": "python3"
  },
  "language_info": {
   "codemirror_mode": {
    "name": "ipython",
    "version": 3
   },
   "file_extension": ".py",
   "mimetype": "text/x-python",
   "name": "python",
   "nbconvert_exporter": "python",
   "pygments_lexer": "ipython3",
   "version": "3.8.10"
  }
 },
 "nbformat": 4,
 "nbformat_minor": 4
}
