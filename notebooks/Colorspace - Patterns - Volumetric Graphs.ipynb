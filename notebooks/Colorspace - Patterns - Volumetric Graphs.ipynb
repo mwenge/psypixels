{
 "cells": [
  {
   "cell_type": "markdown",
   "metadata": {},
   "source": [
    "# Colorspace - Patterns - Volumetric Graphs"
   ]
  },
  {
   "cell_type": "markdown",
   "metadata": {},
   "source": [
    "Create png files based on the screen dump from the atari800 emulation of colourspace."
   ]
  },
  {
   "cell_type": "markdown",
   "metadata": {},
   "source": [
    "Download our modified version of the atari800 emulator. This will allow us to create dump files of screen memory at specified trace points while colourspace is running."
   ]
  },
  {
   "cell_type": "code",
   "execution_count": null,
   "metadata": {},
   "outputs": [],
   "source": [
    "import os\n",
    "! rm -rf atari800\n",
    "! git clone https://github.com/mwenge/atari800.git\n",
    "os.chdir('atari800')\n",
    "! git checkout memwatch\n",
    "! ./autogen.sh\n",
    "! ./configure --enable-monitormemorywatch\n",
    "! make -j5\n",
    "os.chdir('..')\n"
   ]
  },
  {
   "cell_type": "markdown",
   "metadata": {},
   "source": [
    "Run the atari800 emulator and write the screen memory dumps to a file."
   ]
  },
  {
   "cell_type": "code",
   "execution_count": 16,
   "metadata": {},
   "outputs": [
    {
     "name": "stdout",
     "output_type": "stream",
     "text": [
      "patch src/atari800/colourspace.asm -o src/atari800/colourspace_nodemo.asm < disable_demo.patch\n",
      "patching file src/atari800/colourspace_nodemo.asm (read from src/atari800/colourspace.asm)\n",
      "Hunk #1 succeeded at 4044 (offset 18 lines).\n",
      "64tass -Wall -Wno-implied-reg --atari-xex -o bin/colourspace.xex -L bin/list-co1.txt -l bin/labels.txt src/atari800/colourspace_nodemo.asm\n",
      "64tass Turbo Assembler Macro V1.56.2625?\n",
      "64TASS comes with ABSOLUTELY NO WARRANTY; This is free software, and you\n",
      "are welcome to redistribute it under certain conditions; See LICENSE!\n",
      "\n",
      "Assembling file:   src/atari800/colourspace_nodemo.asm\n",
      "Assembling file:   src/atari800/constants.asm\n",
      "Assembling file:   src/atari800/patterns.asm\n",
      "Assembling file:   src/atari800/presets.asm\n",
      "Assembling file:   src/atari800/foreground.asm\n",
      "Error messages:    None\n",
      "Warning messages:  None\n",
      "Passes:            3\n",
      "Memory range:      $1f00-$7c66   $5d67\n",
      "# the original xex file has an incorrect end-byte which we need to patch here.\n",
      "dd if=bin/patch-atari-end-byte.bin of=bin/colourspace.xex bs=1 seek=4 count=1 conv=notrunc\n",
      "1+0 records in\n",
      "1+0 records out\n",
      "1 byte copied, 0.000125321 s, 8.0 kB/s\n",
      "echo \"97a88fc31017f4de2b1106bd5bc66d5b  bin/colourspace.xex\" | md5sum -c\n",
      "bin/colourspace.xex: OK\n",
      "Using Atari800 config file: /home/robert/.atari800.cfg\n",
      "Created by Atari 800 Emulator, Version 4.1.0\n",
      "\n",
      "Memory Watch file open\n",
      "Keyboard mapped to emulated joystick 0\n",
      "Requested resolution 336x240 is not available, using 640x480 instead.\n",
      "Video Mode: 336x240x32 windowed without vsync\n"
     ]
    }
   ],
   "source": [
    "import os\n",
    "os.chdir('../psychedelia')\n",
    "! make colourspace_nodemo.xex\n",
    "os.chdir('../notebooks')\n",
    "# 4327 is the point at which we've finished a round of painting\n",
    "! ./atari800/src/atari800 -memwatchbpc 4327 -memwatchfile colorspace_patterns_volumetric.txt ../psychedelia/bin/colourspace.xex"
   ]
  },
  {
   "cell_type": "markdown",
   "metadata": {},
   "source": [
    "Read in the ram history from our dump file."
   ]
  },
  {
   "cell_type": "code",
   "execution_count": 17,
   "metadata": {},
   "outputs": [],
   "source": [
    "log_file = \"colorspace_patterns_volumetric.txt\"\n",
    "input_file = open(log_file,'r')\n",
    "\n",
    "flatten = lambda l: [e for sublist in l for e in sublist]\n",
    "\n",
    "ram_history = []\n",
    "lines = input_file.readlines()\n",
    "for i in range(1, len(lines), 131):\n",
    "    # Screen RAM (7000-8000)\n",
    "    raw_ram = [l[6:126].split() for l in lines[i:i+104]]\n",
    "    pixel_ram = [int(v,16) for l in raw_ram for v in l][:0x1000]\n",
    "    # Display list (8000-9000)\n",
    "    raw_ram = [l[6:126].split() for l in lines[i+103:i+127]]\n",
    "    display_list = [int(v,16) for l in raw_ram for v in l]\n",
    "    # Color Registers\n",
    "    color_registers = [int(i,16) for i in lines[i+129].split()[1:10]]\n",
    "    ram_history += [(pixel_ram, color_registers, display_list)]"
   ]
  },
  {
   "cell_type": "markdown",
   "metadata": {},
   "source": [
    "Helper functions for implementing the display list entries"
   ]
  },
  {
   "cell_type": "code",
   "execution_count": 18,
   "metadata": {},
   "outputs": [],
   "source": [
    "def getByteForAddress(address,scr):\n",
    "    if 0x7000 <= address < 0x8000:\n",
    "        return scr[address - 0x7000]\n",
    "    return 0\n",
    "\n",
    "def drawBlankLines(pixels, byte, y, num, scr):\n",
    "    #pixels[x, y] = ImageColor.getrgb('#000000')\n",
    "    return num\n",
    "\n",
    "def drawScanLine(pixels, byte, y, num, scr):\n",
    "    for x in range(0,40):\n",
    "        byte = getByteForAddress(address+x, scr)\n",
    "        left_nibble = byte >> 4 & 0x0F \n",
    "        right_nibble = byte & 0x0F\n",
    "        for n in range(0,4):\n",
    "            pixels[y][(x*8)+n] = col_register[left_nibble]\n",
    "        for n in range(0,4):\n",
    "            pixels[y][(x*8)+n+4] = col_register[right_nibble]\n",
    "    return 1\n",
    "\n",
    "dlist_dict = {\n",
    "    0x70: (drawBlankLines,1,1),\n",
    "    0x90: (drawBlankLines,1,1),\n",
    "    0x46: (drawBlankLines,3,1),\n",
    "    0x4F: (drawScanLine,  3,1),\n",
    "}\n",
    "def display_list_entry(dl):\n",
    "    # Consume entries in the display list one by one.\n",
    "    i = 0\n",
    "    while i < len(dl):\n",
    "        b = dl[i]\n",
    "        if b not in dlist_dict:\n",
    "            yield (None,None,None,None,None)\n",
    "        draw, advance, lines = dlist_dict[b]\n",
    "        address = (dl[i+2]<<8 | dl[i+1]) if advance > 1 else 0\n",
    "        i += advance\n",
    "        yield (b, draw, address, lines,i)\n"
   ]
  },
  {
   "cell_type": "markdown",
   "metadata": {},
   "source": [
    "Read in the ram  history and paint a png file using the display lists and the pixel data."
   ]
  },
  {
   "cell_type": "code",
   "execution_count": 19,
   "metadata": {},
   "outputs": [],
   "source": [
    "ROWS = 192\n",
    "COLS = 320\n",
    "\n",
    "pixel_history = []\n",
    "#selected = [ram_history[x] for x in [188,236]]\n",
    "for j, (scr, col_register, display_list) in enumerate(ram_history):\n",
    "    pixels = [[0 for i in range(0,COLS)] for i in range(0,ROWS)]\n",
    "    dlist = display_list_entry(display_list)\n",
    "    x,y = 0,0\n",
    "    while True:\n",
    "        token, draw, address, num, i = next(dlist)\n",
    "        if draw == None:\n",
    "            break\n",
    "        #print(hex(token),hex(address),num,i,display_list[i:i+2],len(display_list))\n",
    "        y += draw(pixels, address, y, num, scr)\n",
    "    pixel_history+= [pixels]"
   ]
  },
  {
   "cell_type": "code",
   "execution_count": 80,
   "metadata": {},
   "outputs": [
    {
     "data": {
      "text/plain": [
       "34"
      ]
     },
     "execution_count": 80,
     "metadata": {},
     "output_type": "execute_result"
    }
   ],
   "source": [
    "flatten = lambda l: [e for sublist in l for e in sublist]\n",
    "\n",
    "pattern_breaks = []\n",
    "for i,h in enumerate(pixel_history):\n",
    "    num_pixels = sum(flatten(h))\n",
    "    if num_pixels > 1:\n",
    "        continue\n",
    "    pattern_breaks += [i]\n",
    "\n",
    "patterns = []\n",
    "pp = 0\n",
    "for p in pattern_breaks:\n",
    "    patterns += [pixel_history[pp:p]]\n",
    "    pp = p\n",
    "len(patterns)"
   ]
  },
  {
   "cell_type": "code",
   "execution_count": 81,
   "metadata": {},
   "outputs": [],
   "source": [
    "# Fix up the patterns\n",
    "del patterns[2]\n",
    "del patterns[3]\n",
    "del patterns[4]\n",
    "del patterns[5]\n",
    "del patterns[7]\n",
    "del patterns[9]\n",
    "del patterns[11]\n",
    "del patterns[13]\n"
   ]
  },
  {
   "cell_type": "code",
   "execution_count": 82,
   "metadata": {},
   "outputs": [],
   "source": [
    "last = patterns[-1]\n",
    "del patterns[-1]\n",
    "patterns += [last[:16]]\n",
    "patterns += [last[17:]]\n"
   ]
  },
  {
   "cell_type": "code",
   "execution_count": 83,
   "metadata": {},
   "outputs": [],
   "source": [
    "def firstNonZero(l):\n",
    "    for i,e in enumerate(l):\n",
    "        if e > 0:\n",
    "            return i\n",
    "    return i\n",
    "\n",
    "def getLeftMostPixelForPattern(pattern):\n",
    "    return min([firstNonZero(r) for scr in pattern for r in scr])\n",
    "\n",
    "def getRightMostPixelForPattern(pattern):\n",
    "    return len(pattern[0][0]) - min([firstNonZero(list(reversed(r)))\n",
    "                     for scr in pattern for r in scr])\n",
    "\n",
    "def rotatePatternToCols(pattern):\n",
    "    pattern_cols = []\n",
    "    for scr in pattern:\n",
    "        col_arr = [[0 for i in range(len(scr))] for j in range(len(scr[0]))]\n",
    "        for i,r in enumerate(scr):\n",
    "            for j,v in enumerate(r):\n",
    "                col_arr[j][i] = v\n",
    "        pattern_cols += [col_arr]\n",
    "    return pattern_cols\n",
    "\n",
    "def cullPattern(pattern):\n",
    "    first_left = getLeftMostPixelForPattern(pattern)\n",
    "    last_right = getRightMostPixelForPattern(pattern)\n",
    "    width = last_right - first_left\n",
    "\n",
    "    pattern_as_cols = rotatePatternToCols(pattern)\n",
    "    first_top = getLeftMostPixelForPattern(pattern_as_cols)\n",
    "    last_bottom = getRightMostPixelForPattern(pattern_as_cols)\n",
    "    height = last_bottom - first_top\n",
    "    \n",
    "    culled = [[r[first_left:last_right] \n",
    "              for r in scr[first_top:last_bottom]]\n",
    "              for scr in pattern]\n",
    "    return culled\n",
    "\n",
    "#cullPattern(patterns[0])\n",
    "#patterns[0]"
   ]
  },
  {
   "cell_type": "code",
   "execution_count": 84,
   "metadata": {},
   "outputs": [],
   "source": [
    "import matplotlib.pyplot as plt\n",
    "from PIL import Image, ImageColor, ImageChops\n",
    "from matplotlib.colors import LightSource\n",
    "import colorspace_colors as cc\n",
    "import numpy as np\n",
    "\n",
    "plt.rcParams[\"figure.figsize\"] = (80,80)\n",
    "plt.rcParams['figure.dpi'] = 80\n",
    "\n",
    "def explode(data):\n",
    "    size = np.array(data.shape)*2\n",
    "    data_e = np.zeros(size - 1, dtype=data.dtype)\n",
    "    data_e[::2, ::2, ::2] = data\n",
    "    return data_e\n",
    "\n",
    "def createVoxelData(screens):\n",
    "    # prepare some coordinates\n",
    "    width = len(screens[0][0])\n",
    "    height = len (screens[0])\n",
    "    x, y, z = np.indices((width,height,len(screens)))\n",
    "    voxelarray = np.zeros((width,height,len(screens)), dtype=bool)\n",
    "    colorarray = np.empty(voxelarray.shape, dtype=object)\n",
    "    for zp,screen in enumerate(screens):\n",
    "        for yp, row in enumerate(list(reversed(screen))):\n",
    "            for xp, col in enumerate(row):\n",
    "                # Skip black, white and gray cells\n",
    "                if col in [0,1,0x0c]:\n",
    "                    continue\n",
    "                cube = (x == xp) & (y == yp) & (z == zp)\n",
    "                voxelarray |= cube\n",
    "                color =  cc.color_value_to_html[col]\n",
    "                colorarray[cube] = color+\"c0\"\n",
    "\n",
    "    # upscale the above voxel image, leaving gaps\n",
    "    filled_2 = explode(voxelarray)\n",
    "    ecolors_2 = explode(colorarray)\n",
    "\n",
    "    # Shrink the gaps\n",
    "    x, y, z = np.indices(np.array(filled_2.shape) + 1).astype(float) // 2\n",
    "    x[0::2, :, :] += 0.10\n",
    "    y[:, 0::2, :] += 0.10\n",
    "    z[:, :, 0::2] += 0.10\n",
    "    x[1::2, :, :] += 0.90\n",
    "    y[:, 1::2, :] += 0.90\n",
    "    z[:, :, 1::2] += 0.90\n",
    "\n",
    "    return ((x,y,z), filled_2, ecolors_2)\n",
    "\n",
    "def fig2img(fig):\n",
    "    \"\"\"Convert a Matplotlib figure to a PIL Image and return it\"\"\"\n",
    "    import io\n",
    "    buf = io.BytesIO()\n",
    "    fig.savefig(buf)\n",
    "    buf.seek(0)\n",
    "    img = Image.open(buf)\n",
    "    return img"
   ]
  },
  {
   "cell_type": "code",
   "execution_count": 85,
   "metadata": {},
   "outputs": [
    {
     "name": "stdout",
     "output_type": "stream",
     "text": [
      "fig2img\n",
      "(1352, 722, 2704, 2551)\n",
      "fig2img\n",
      "(648, 1032, 2018, 1671)\n",
      "fig2img\n",
      "(1053, 903, 2668, 2551)\n",
      "fig2img\n",
      "(683, 853, 2284, 2324)\n",
      "fig2img\n",
      "(1242, 1124, 2668, 2551)\n",
      "fig2img\n",
      "(683, 853, 2074, 2216)\n",
      "fig2img\n",
      "(786, 828, 2549, 2322)\n",
      "fig2img\n",
      "(786, 828, 2549, 2322)\n",
      "fig2img\n",
      "(651, 989, 2679, 2095)\n",
      "fig2img\n",
      "(672, 724, 2701, 2053)\n"
     ]
    }
   ],
   "source": [
    "# Select our pattern\n",
    "import os\n",
    "import gc\n",
    "\n",
    "def trim(im):\n",
    "    bg = Image.new(im.mode, im.size, im.getpixel((0,0)))\n",
    "    diff = ImageChops.difference(im, bg)\n",
    "    bbox = diff.getbbox()\n",
    "    print(bbox)\n",
    "    return im.crop(bbox)\n",
    "\n",
    "for i, screens in enumerate([p for p in patterns if len(p) > 1]):\n",
    "    screens = cullPattern(screens)\n",
    "    for azim in [-45,-225]:\n",
    "        if os.path.isfile(f'colorspace_patterns/pattern{i}{azim}.png'):\n",
    "            continue\n",
    "        ((x,y,z), voxels, vcolors) = createVoxelData(screens)\n",
    "        # and plot everything\n",
    "        ax = plt.figure().add_subplot(projection='3d')\n",
    "        ls = LightSource(45)\n",
    "        ax.voxels(x,y,z,voxels, facecolors=vcolors, edgecolors=vcolors,lightsource=ls)\n",
    "        ax.axis('off')\n",
    "        ax.view_init(azim=azim, vertical_axis='y')\n",
    "        print(\"fig2img\")\n",
    "        img = fig2img(plt.gcf())\n",
    "        img = img.resize((int(img.width / 2), int(img.height / 2)), Image.NEAREST)\n",
    "        \n",
    "        newImage = []\n",
    "        for item in img.getdata():\n",
    "            if item[:3] == (255, 255, 255):\n",
    "                newImage.append((255, 255, 255, 0))\n",
    "            else:\n",
    "                newImage.append(item)\n",
    "\n",
    "        img.putdata(newImage)\n",
    "        img = trim(img)\n",
    "        img.save(f'colorspace_patterns/pattern{i}{azim}.png')\n",
    "        plt.clf()\n",
    "        del voxels, vcolors\n",
    "        plt.close()\n",
    "        gc.collect()\n"
   ]
  },
  {
   "cell_type": "code",
   "execution_count": null,
   "metadata": {},
   "outputs": [],
   "source": [
    "\n",
    "\n",
    "\n",
    "\n",
    "\n",
    "\n",
    "\n",
    "\n",
    "\n",
    "\n",
    "\n",
    "\n",
    "\n",
    "\n",
    "\n",
    "\n",
    "\n"
   ]
  }
 ],
 "metadata": {
  "kernelspec": {
   "display_name": "Python 3",
   "language": "python",
   "name": "python3"
  },
  "language_info": {
   "codemirror_mode": {
    "name": "ipython",
    "version": 3
   },
   "file_extension": ".py",
   "mimetype": "text/x-python",
   "name": "python",
   "nbconvert_exporter": "python",
   "pygments_lexer": "ipython3",
   "version": "3.8.10"
  }
 },
 "nbformat": 4,
 "nbformat_minor": 4
}
