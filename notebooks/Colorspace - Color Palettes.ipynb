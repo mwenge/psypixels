{
 "cells": [
  {
   "cell_type": "markdown",
   "metadata": {},
   "source": [
    "# Colorspace - Screen RAM Table"
   ]
  },
  {
   "cell_type": "markdown",
   "metadata": {},
   "source": [
    "Create png files based on the screen dump from the atari800 emulation of colourspace."
   ]
  },
  {
   "cell_type": "markdown",
   "metadata": {},
   "source": [
    "Write a series of png files one for each stage of the evolution of the pattern"
   ]
  },
  {
   "cell_type": "code",
   "execution_count": 12,
   "metadata": {},
   "outputs": [
    {
     "data": {
      "text/plain": [
       "'0XF3'"
      ]
     },
     "execution_count": 12,
     "metadata": {},
     "output_type": "execute_result"
    }
   ],
   "source": [
    "\n",
    "f\"{243:#0{4}X}\""
   ]
  },
  {
   "cell_type": "code",
   "execution_count": 17,
   "metadata": {},
   "outputs": [],
   "source": [
    "\n",
    "import colorspace_colors as cc\n",
    "def createLatexEntry(x):\n",
    "    if x not in cc.color_value_to_html:\n",
    "        return ''\n",
    "    color = cc.color_value_to_html[x]\n",
    "    return (f\"& \\\\cellcolor[HTML]{{{color}}}\\\\icode{{{x:#0{4}X}}} \") \n",
    "\n",
    "output_file = open(\"painting/colorspace_palette.tex\",'w')\n",
    "for x in range(0,255,40):\n",
    "    l = list(range(x,x+40))\n",
    "    entry = ''.join([createLatexEntry(x) for x in l]) + \" \\\\\\\\\"\n",
    "    output_file.write(entry[2:].replace('000000','ffffff') + '\\n')\n",
    "output_file.close()"
   ]
  },
  {
   "cell_type": "code",
   "execution_count": 21,
   "metadata": {},
   "outputs": [],
   "source": [
    "c64_color_value_to_html = {\n",
    "0x00 : \"#000000\",\n",
    "0x01 : \"#ffffff\",\n",
    "0x02 : \"#880000\",\n",
    "0x03 : \"#aaffee\",\n",
    "0x04 : \"#cc44cc\",\n",
    "0x05 : \"#00cc55\",\n",
    "0x06 : \"#0000aa\",\n",
    "0x07 : \"#eeee77\",\n",
    "0x08 : \"#dd8855\",\n",
    "0x09 : \"#664400\",\n",
    "0x0A : \"#ff7777\",\n",
    "0x0B : \"#777777\",\n",
    "0x0C : \"#333333\",\n",
    "0x0D : \"#aaff66\",\n",
    "0x0E : \"#0088ff\",\n",
    "0x0F : \"#bbbbbb\",\n",
    "}"
   ]
  },
  {
   "cell_type": "code",
   "execution_count": 26,
   "metadata": {},
   "outputs": [],
   "source": [
    "\n",
    "def createC64LatexEntry(x):\n",
    "    if x not in c64_color_value_to_html:\n",
    "        return ''\n",
    "    color = c64_color_value_to_html[x]\n",
    "    return (f\"& \\\\cellcolor[HTML]{{{color}}}\\\\icode{{{x:#0{4}X}}} \") \n",
    "\n",
    "output_file = open(\"painting/psychedelia_palette.tex\",'w')\n",
    "l = list(range(0,16))\n",
    "entry = ''.join([createC64LatexEntry(x) for x in l]) + \" \\\\\\\\\"\n",
    "output_file.write(entry[2:].replace('000000','ffffff') + '\\n')\n",
    "output_file.close()"
   ]
  },
  {
   "cell_type": "code",
   "execution_count": null,
   "metadata": {},
   "outputs": [],
   "source": [
    "\n",
    "\n",
    "\n",
    "\n",
    "\n",
    "\n",
    "\n",
    "\n",
    "\n",
    "\n",
    "\n",
    "\n",
    "\n",
    "\n",
    "\n",
    "\n",
    "\n"
   ]
  }
 ],
 "metadata": {
  "kernelspec": {
   "display_name": "Python 3 (ipykernel)",
   "language": "python",
   "name": "python3"
  },
  "language_info": {
   "codemirror_mode": {
    "name": "ipython",
    "version": 3
   },
   "file_extension": ".py",
   "mimetype": "text/x-python",
   "name": "python",
   "nbconvert_exporter": "python",
   "pygments_lexer": "ipython3",
   "version": "3.10.12"
  }
 },
 "nbformat": 4,
 "nbformat_minor": 4
}
