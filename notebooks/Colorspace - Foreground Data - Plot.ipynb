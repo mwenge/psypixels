{
 "cells": [
  {
   "cell_type": "markdown",
   "metadata": {},
   "source": [
    "# Colorspace - Foreground Data Plot"
   ]
  },
  {
   "cell_type": "markdown",
   "metadata": {},
   "source": [
    "Create png files based on the screen dump from the atari800 emulation of colourspace."
   ]
  },
  {
   "cell_type": "code",
   "execution_count": 37,
   "metadata": {},
   "outputs": [],
   "source": [
    "flatten = lambda l: [e for sublist in l for e in sublist]\n",
    "lines = open(\"../psychedelia/src/atari800/foreground.asm\",'r').readlines()\n",
    "x_bytes = flatten([[int(x[1:].strip(),16)\n",
    "                    for x in l[14:].split(',')] \n",
    "                   for l in lines[11:139]])\n",
    "y_bytes = flatten([[int(x[1:].strip(),16)\n",
    "                    for x in l[14:].split(',')] \n",
    "                   for l in lines[141:269]])\n",
    "color_bytes = flatten([[int(x[1:].strip(),16)\n",
    "                    for x in l[14:].split(',')] \n",
    "                   for l in lines[271:]])\n",
    "\n",
    "colors = [int(x,16) for x in \"00 18 38 58 78 98 B8 D8 0F\".split()]"
   ]
  },
  {
   "cell_type": "code",
   "execution_count": null,
   "metadata": {},
   "outputs": [],
   "source": [
    "import colorspace_colors as cc\n",
    "from PIL import Image, ImageColor\n",
    "ROWS = 40\n",
    "COLS = 80\n",
    "\n",
    "img = Image.new( 'RGB', (COLS,ROWS), \"black\")\n",
    "pixels = img.load()\n",
    "\n",
    "for i, x in enumerate(x_bytes):\n",
    "    if x == 0xFF: break\n",
    "    color = cc.color_value_to_html[colors[color_bytes[i]]]\n",
    "    pixels[x, y_bytes[i]] = ImageColor.getrgb(color)\n",
    "    if i % 8 == 0:\n",
    "        img2 = img.resize((img.width * 2, img.height * 2), Image.NEAREST)\n",
    "        img2.save(f\"colorspace_foreground/data_plot_{i}.png\")\n",
    "\n"
   ]
  },
  {
   "cell_type": "code",
   "execution_count": null,
   "metadata": {},
   "outputs": [],
   "source": [
    "\n",
    "\n",
    "\n",
    "\n",
    "\n",
    "\n",
    "\n",
    "\n",
    "\n",
    "\n",
    "\n",
    "\n",
    "\n",
    "\n",
    "\n",
    "\n",
    "\n"
   ]
  }
 ],
 "metadata": {
  "kernelspec": {
   "display_name": "Python 3",
   "language": "python",
   "name": "python3"
  },
  "language_info": {
   "codemirror_mode": {
    "name": "ipython",
    "version": 3
   },
   "file_extension": ".py",
   "mimetype": "text/x-python",
   "name": "python",
   "nbconvert_exporter": "python",
   "pygments_lexer": "ipython3",
   "version": "3.8.10"
  }
 },
 "nbformat": 4,
 "nbformat_minor": 4
}
