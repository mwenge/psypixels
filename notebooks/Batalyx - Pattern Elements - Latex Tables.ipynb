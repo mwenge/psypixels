{
 "cells": [
  {
   "cell_type": "markdown",
   "metadata": {},
   "source": [
    "# Generate Latex Tables of Pattern Progressions"
   ]
  },
  {
   "cell_type": "code",
   "execution_count": 1,
   "metadata": {},
   "outputs": [],
   "source": [
    "patterns = [\n",
    "    (\"\"\"\n",
    "patternXPosArray         \n",
    "        .BYTE $FF,$01,$55\n",
    "        .BYTE $FE,$02,$55\n",
    "        .BYTE $FD,$03,$55\n",
    "        .BYTE $FC,$04,$55\n",
    "        .BYTE $FB,$05,$55\n",
    "        .BYTE $FA,$06,$55\n",
    "        .BYTE $55,$55    \n",
    "\"\"\".split('\\n')[1:-1]\n",
    "    ,\"\"\"\n",
    "patternYPosArray         \n",
    "        .BYTE $01,$FF,$55\n",
    "        .BYTE $FE,$02,$55\n",
    "        .BYTE $03,$FD,$55\n",
    "        .BYTE $FC,$04,$55\n",
    "        .BYTE $05,$FB,$55\n",
    "        .BYTE $FA,$06,$55\n",
    "        .BYTE $55,$55    \n",
    "\"\"\".split('\\n')[1:-1]\n",
    "      ),\n",
    "]\n"
   ]
  },
  {
   "cell_type": "code",
   "execution_count": 4,
   "metadata": {},
   "outputs": [],
   "source": [
    "import re\n",
    "theader = \"\"\"\n",
    "\\\\begin{figure}[H]\n",
    "  {\n",
    "    \\setlength{\\\\tabcolsep}{3.0pt}\n",
    "    \\setlength\\cmidrulewidth{\\heavyrulewidth} % Make cmidrule = \n",
    "    \\\\begin{adjustbox}{height=5cm,center}\n",
    "      \\\\footnotesize\n",
    "      \\\\begin{tabular}{ll}\n",
    "\"\"\"\n",
    "\n",
    "trow1 = \"\"\"\n",
    "        \\makecell[l]{\n",
    "\"\"\"\n",
    "trow2 = \"\"\"} & \\makecell[l]{\n",
    "\"\"\"\n",
    "\n",
    "trow3 = \"\"\"} \\\\\\\\\n",
    "        \\midrule\n",
    "\"\"\"\n",
    "tfooter = \"\"\"\n",
    "      \\end{tabular}\n",
    "    \\end{adjustbox}\n",
    "  }\\caption{The purpose of each of the oscillator values.}\n",
    "\\end{figure}\n",
    "\"\"\"\n"
   ]
  },
  {
   "cell_type": "code",
   "execution_count": 5,
   "metadata": {},
   "outputs": [],
   "source": [
    "pattern_names = [\n",
    "    \"Batalyx\",\n",
    "]"
   ]
  },
  {
   "cell_type": "code",
   "execution_count": 6,
   "metadata": {},
   "outputs": [],
   "source": [
    "import os\n",
    "patterns[0]\n",
    "trimmedPattern = lambda p: [l[l.find(\".BYTE\"):].strip() for l in p]\n",
    "pngs = [(0,1),(1,2),(3,3),(6,4),(10,5),(15,5),(20,5),(25,5),(30,5),\n",
    "       (35,5),(40,5),(45,5),]\n",
    "for i,(x_p,y_p) in enumerate(patterns):\n",
    "    output_file = open(f\"../src/batalyx_patterns/tables/pattern{i}.tex\",'w')\n",
    "    x_array, y_array =  trimmedPattern(x_p), trimmedPattern(y_p)\n",
    "    output_file.write(theader)\n",
    "    for j,x in enumerate(x_array):\n",
    "        output_file.write(trow1)\n",
    "        output_file.write(f\"\\icode{{{x[:-4]}}}\\\\\\\\\\n\".replace(\"$\",\"\\$\"))\n",
    "        output_file.write(f\"\\icode{{{y_array[j][:-4]}}}\\n\".replace(\"$\",\"\\$\"))\n",
    "        output_file.write(trow2)\n",
    "        for k in range(0,pngs[j][1]):\n",
    "            fname = f\"src/batalyx_patterns/pixels/pixel_pattern{i}_{pngs[j][0]+k}.png\"\n",
    "            if not os.path.isfile(\"../\"+fname):\n",
    "                break\n",
    "            pngrow = f\"\"\"\\includegraphics[width=1.3cm]{{{fname}}}%\\n\"\"\"\n",
    "            output_file.write(pngrow)\n",
    "        output_file.write(trow3)\n",
    "    tfooter = f\"\"\"\n",
    "          \\end{{tabular}}\n",
    "        \\end{{adjustbox}}\n",
    "      }}\\caption{{Pattern Progression for '{pattern_names[i]}'}}\n",
    "    \\end{{figure}}\n",
    "    \"\"\"\n",
    "    output_file.write(tfooter)\n",
    "    output_file.close()\n"
   ]
  },
  {
   "cell_type": "code",
   "execution_count": null,
   "metadata": {},
   "outputs": [],
   "source": [
    "\n",
    "\n",
    "\n",
    "\n",
    "\n",
    "\n",
    "\n",
    "\n",
    "\n",
    "\n",
    "\n",
    "\n",
    "\n",
    "\n",
    "\n",
    "\n",
    "\n",
    "\n",
    "\n",
    "\n",
    "\n",
    "\n",
    "\n",
    "\n",
    "\n"
   ]
  }
 ],
 "metadata": {
  "kernelspec": {
   "display_name": "Python 3",
   "language": "python",
   "name": "python3"
  },
  "language_info": {
   "codemirror_mode": {
    "name": "ipython",
    "version": 3
   },
   "file_extension": ".py",
   "mimetype": "text/x-python",
   "name": "python",
   "nbconvert_exporter": "python",
   "pygments_lexer": "ipython3",
   "version": "3.8.10"
  }
 },
 "nbformat": 4,
 "nbformat_minor": 4
}
