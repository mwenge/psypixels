{
 "cells": [
  {
   "cell_type": "markdown",
   "metadata": {},
   "source": [
    "# Left to Right Pixel Graph of Demo Screen"
   ]
  },
  {
   "cell_type": "code",
   "execution_count": 6,
   "metadata": {},
   "outputs": [],
   "source": [
    "colors_base = {\n",
    "\"00\":\"c64_black\",  \n",
    "#\"00\":\"c64_white\",  \n",
    "\"01\":\"c64_white\",  \n",
    "\"02\":\"c64_red\",    \n",
    "\"03\":\"c64_cyan\",   \n",
    "\"04\":\"c64_purple\", \n",
    "\"05\":\"c64_green\",  \n",
    "\"06\":\"c64_blue\",   \n",
    "\"07\":\"c64_yellow\", \n",
    "\"08\":\"c64_orange\", \n",
    "\"09\":\"c64_brown\",  \n",
    "\"0a\":\"c64_ltred\",  \n",
    "\"0b\":\"c64_gray1\",  \n",
    "\"0c\":\"c64_lightgray\",  \n",
    "\"0d\":\"c64_ltgreen\",\n",
    "\"0e\":\"c64_ltblue\", \n",
    "\"0f\":\"c64_gray3\",  \n",
    "}\n",
    "colors = [v for k,v in colors_base.items()]\n",
    "    \n",
    "c64_to_rgb = {\n",
    "\"c64_black\": \"#000000\",     \n",
    "\"c64_white\": \"#ffffff\",     \n",
    "\"c64_red\": \"#880000\",       \n",
    "\"c64_cyan\":  \"#aaffee\",     \n",
    "\"c64_purple\": \"#cc44cc\",    \n",
    "\"c64_green\": \"#00cc55\",     \n",
    "#\"c64_blue\":  \"#0000aa\",     \n",
    "\"c64_blue\":  \"#0088ff\",     \n",
    "\"c64_yellow\":  \"#eeee77\",   \n",
    "\"c64_orange\":  \"#dd8855\",   \n",
    "\"c64_brown\": \"#664400\",     \n",
    "\"c64_ltred\": \"#ff7777\",  \n",
    "\"c64_gray1\":  \"#333333\",    \n",
    "\"c64_ltgreen\": \"#aaff66\",\n",
    "\"c64_ltblue\":  \"#0088ff\",\n",
    "\"c64_lightgrey\": \"#bbbbbb\", \n",
    "\"c64_lightgray\": \"#bbbbbb\", \n",
    "\"c64_gray3\": \"#bbbbbb\",                             \n",
    "}\n"
   ]
  },
  {
   "cell_type": "markdown",
   "metadata": {},
   "source": [
    "Run the following command:\n",
    "```sh\n",
    "~/Dev/vice-emu-code/vice/src/x64sc -directory ~/Dev/vice-emu-code/vice/data/ -moncommands painttrace.txt bin/psychedelia.prg \n",
    "```\n",
    "Where `painttrace.txt` is:\n",
    "\n",
    "```\n",
    "log on\n",
    "logname \"PsychedeliaDemoPaintTrace.txt\"\n",
    "tr exec 0973\n",
    "command 1 \"mem d800 dbff\"\n",
    "```"
   ]
  },
  {
   "cell_type": "markdown",
   "metadata": {},
   "source": [
    "Read in the ram history."
   ]
  },
  {
   "cell_type": "code",
   "execution_count": 2,
   "metadata": {},
   "outputs": [],
   "source": [
    "log_file = \"PsychedeliaDemoPaintTrace.txt\"\n",
    "input_file = open(log_file,'r')\n",
    "\n",
    "ram_history = []\n",
    "lines = input_file.readlines()\n",
    "c = 0\n",
    "for i in range(5, len(lines), 70):\n",
    "    raw_ram = [l[9:60].split() for l in lines[i:i+64]]\n",
    "    raw_ram = [int(v,16) & 0x0f for l in raw_ram for v in l]\n",
    "    color_ram = list(reversed([raw_ram[v:v+40] for v in range(0, len(raw_ram), 40)]))[2:]\n",
    "    \n",
    "    raw_ram = [l[9:60].split() for l in lines[i+64:i+67]]\n",
    "    raw_ram = [int(v,16) for l in raw_ram for v in l]\n",
    "    settings_ram = raw_ram\n",
    "\n",
    "    ram_history += [(color_ram,settings_ram)]\n",
    "    c += 1\n"
   ]
  },
  {
   "cell_type": "markdown",
   "metadata": {},
   "source": [
    "Segment per pattern type"
   ]
  },
  {
   "cell_type": "code",
   "execution_count": 3,
   "metadata": {},
   "outputs": [],
   "source": [
    "flatten = lambda l: [e for sublist in l for e in sublist]\n",
    "\n",
    "pattern_breaks = []\n",
    "ppindex = 0\n",
    "psym = 0\n",
    "for i,(h,s) in enumerate(ram_history):\n",
    "    pindex = s[-7]\n",
    "    sym = s[-1]\n",
    "    if pindex == ppindex and sym == psym:\n",
    "        continue\n",
    "    psym, ppindex = sym, pindex\n",
    "    pattern_breaks += [i]\n",
    "pattern_breaks = pattern_breaks[1:]\n",
    "\n",
    "patterns = []\n",
    "pp = 0\n",
    "for p in pattern_breaks:\n",
    "    patterns += [ram_history[pp:p]]\n",
    "    pp = p\n"
   ]
  },
  {
   "cell_type": "code",
   "execution_count": 4,
   "metadata": {},
   "outputs": [
    {
     "data": {
      "text/plain": [
       "(24, 40)"
      ]
     },
     "execution_count": 4,
     "metadata": {},
     "output_type": "execute_result"
    }
   ],
   "source": [
    "screen_rows = len(ram_history[0][0])\n",
    "screen_cols = len(ram_history[0][0][0])\n",
    "screen_rows,screen_cols"
   ]
  },
  {
   "cell_type": "code",
   "execution_count": 7,
   "metadata": {},
   "outputs": [],
   "source": [
    "from PIL import Image, ImageColor\n",
    "import os\n",
    "\n",
    "bit_array = ([['0' for i in range(8)]] \n",
    "            + [['0']+['1' for i in range(6)]+['0'] for j in range(6)] \n",
    "            + [['0' for i in range(8)]])\n",
    "\n",
    "def paintChar(origin, pixels, cv):\n",
    "    c, r = origin\n",
    "    x_o, y_o = c*8, r*8\n",
    "    for y, l in enumerate(bit_array):\n",
    "        for x,bit in enumerate(l):\n",
    "            if bit == \"0\":\n",
    "                continue\n",
    "            color = c64_to_rgb[colors[cv]]\n",
    "            pixels[x_o+x, y_o+y] = ImageColor.getrgb(color)\n",
    "\n",
    "screen_rows = len(ram_history[0][0])\n",
    "screen_cols = len(ram_history[0][0][0])\n",
    "for i, segment in enumerate(patterns):\n",
    "    segment = segment[:265]\n",
    "    settings = [s for p,s in segment]\n",
    "    pattern_index = settings[0][-7]\n",
    "    symmetry = settings[0][-1]\n",
    "    output_name = f\"pixel-screens/pixel_pattern{pattern_index}_{symmetry}.png\"\n",
    "    if os.path.isfile(output_name):\n",
    "        continue\n",
    "\n",
    "    cols = len(segment)\n",
    "    rows = screen_rows * screen_cols\n",
    "    bits=8\n",
    "    img = Image.new( 'RGB', (cols*bits,rows*bits), \"black\")\n",
    "    pixels = img.load()\n",
    "    for x, (scr,settings) in enumerate(segment):\n",
    "        for y2, l in enumerate(scr):\n",
    "            for x2, v in enumerate(l):\n",
    "                y = (y2 * screen_cols) + x2\n",
    "                paintChar((x,y), pixels, v)\n",
    "    #img = img.resize((img.width * 4, img.height * 4), Image.NEAREST)\n",
    "    img.save(output_name)\n"
   ]
  },
  {
   "cell_type": "code",
   "execution_count": null,
   "metadata": {},
   "outputs": [],
   "source": [
    "\n",
    "\n",
    "\n",
    "\n",
    "\n",
    "\n",
    "\n",
    "\n",
    "\n",
    "\n",
    "\n",
    "\n",
    "\n",
    "\n",
    "\n",
    "\n",
    "\n"
   ]
  }
 ],
 "metadata": {
  "kernelspec": {
   "display_name": "Python 3",
   "language": "python",
   "name": "python3"
  },
  "language_info": {
   "codemirror_mode": {
    "name": "ipython",
    "version": 3
   },
   "file_extension": ".py",
   "mimetype": "text/x-python",
   "name": "python",
   "nbconvert_exporter": "python",
   "pygments_lexer": "ipython3",
   "version": "3.8.10"
  }
 },
 "nbformat": 4,
 "nbformat_minor": 4
}
