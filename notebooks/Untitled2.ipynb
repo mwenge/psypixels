{
 "cells": [
  {
   "cell_type": "code",
   "execution_count": 13,
   "id": "3d931b74",
   "metadata": {},
   "outputs": [
    {
     "name": "stdout",
     "output_type": "stream",
     "text": [
      "CPU Register Legend:                                   \n",
      "C = Carry,    Z = Zero, I = Interrupt, D = Decimal Mode\n",
      "V = Overflow, N = Negative                             \n",
      "                                                       \n",
      "Execution History (Values are after execution.)        \n",
      "                                                       \n",
      "                       | CPU Register | Program           \n",
      "Instruction |  A  X  Y | C Z I D V N  | Counter           \n",
      "----------- | -- -- -- | -----------  | -------           \n",
      "LDA #00FE   | FE 00 00 | 0 0 0 0 0 1  | 049154 \n",
      "STA $0002   | FE 00 00 | 0 0 0 0 0 1  | 049156 \n",
      "INC $0002   | FE 00 00 | 0 0 0 0 0 1  | 049158 \n",
      "INC $0002   | FE 00 00 | 0 1 0 0 0 0  | 049160 \n",
      "INC $0002   | FE 00 00 | 0 0 0 0 0 0  | 049162 \n",
      "BRK         | FE 00 00 | 0 0 1 0 0 0  | 000000 \n",
      "                                                       \n",
      "First 256 Bytes of Zero Page After Execution Completed \n",
      "                                                       \n",
      "    00 01 02 03 04 05 06 07 08 09 0A 0B 0C 0D 0E 0F    \n",
      "    -- -- -- -- -- -- -- -- -- -- -- -- -- -- -- --    \n",
      "00 |00 00 01 00 FF FF FF FF 00 00 00 00 FF FF FF FF \n",
      "01 |00 00 00 00 FF FF FF FF 00 00 00 00 FF FF FF FF \n",
      "02 |00 00 00 00 FF FF FF FF 00 00 00 00 FF FF FF FF \n",
      "03 |00 00 00 00 FF FF FF FF 00 00 00 00 FF FF FF FF \n",
      "04 |00 00 00 00 FF FF FF FF 00 00 00 00 FF FF FF FF \n",
      "05 |00 00 00 00 FF FF FF FF 00 00 00 00 FF FF FF FF \n",
      "06 |00 00 00 00 FF FF FF FF 00 00 00 00 FF FF FF FF \n",
      "07 |00 00 00 00 FF FF FF FF 00 00 00 00 FF FF FF FF \n",
      "08 |00 00 00 00 FF FF FF FF 00 00 00 00 FF FF FF FF \n",
      "09 |00 00 00 00 FF FF FF FF 00 00 00 00 FF FF FF FF \n",
      "0A |00 00 00 00 FF FF FF FF 00 00 00 00 FF FF FF FF \n",
      "0B |00 00 00 00 FF FF FF FF 00 00 00 00 FF FF FF FF \n",
      "0C |00 00 00 00 FF FF FF FF 00 00 00 00 FF FF FF FF \n",
      "0D |00 00 00 00 FF FF FF FF 00 00 00 00 FF FF FF FF \n",
      "0E |00 00 00 00 FF FF FF FF 00 00 00 00 FF FF FF FF \n",
      "0F |00 00 00 00 FF FF FF FF 00 00 00 00 FF FF FF FF \n"
     ]
    }
   ],
   "source": [
    "unusedBurst = $02\n",
    "LDA #$FE\n",
    "STA unusedBurst\n",
    "INC unusedBurst\n",
    "INC unusedBurst\n",
    "INC unusedBurst"
   ]
  }
 ],
 "metadata": {
  "kernelspec": {
   "display_name": "6502",
   "language": "asm",
   "name": "asm"
  },
  "language_info": {
   "file_extension": ".s",
   "mimetype": "text/x-z80",
   "name": "z80"
  }
 },
 "nbformat": 4,
 "nbformat_minor": 5
}
