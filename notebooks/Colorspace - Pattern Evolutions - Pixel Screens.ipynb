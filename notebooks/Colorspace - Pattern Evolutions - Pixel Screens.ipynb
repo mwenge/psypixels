{
 "cells": [
  {
   "cell_type": "markdown",
   "metadata": {},
   "source": [
    "# Colorspace - Patterns - Pixel Screens"
   ]
  },
  {
   "cell_type": "markdown",
   "metadata": {},
   "source": [
    "Create png files based on the screen dump from the atari800 emulation of colourspace."
   ]
  },
  {
   "cell_type": "markdown",
   "metadata": {},
   "source": [
    "Read in the ram history from our dump file. Use the same file as the volumetric graph notebook."
   ]
  },
  {
   "cell_type": "code",
   "execution_count": 1,
   "metadata": {},
   "outputs": [],
   "source": [
    "log_file = \"colorspace_patterns_volumetric.txt\"\n",
    "input_file = open(log_file,'r')\n",
    "\n",
    "flatten = lambda l: [e for sublist in l for e in sublist]\n",
    "\n",
    "ram_history = []\n",
    "lines = input_file.readlines()\n",
    "for i in range(1, len(lines), 131):\n",
    "    # Screen RAM (7000-8000)\n",
    "    raw_ram = [l[6:126].split() for l in lines[i:i+104]]\n",
    "    pixel_ram = [int(v,16) for l in raw_ram for v in l][:0x1000]\n",
    "    # Display list (8000-9000)\n",
    "    raw_ram = [l[6:126].split() for l in lines[i+103:i+127]]\n",
    "    display_list = [int(v,16) for l in raw_ram for v in l]\n",
    "    # Color Registers\n",
    "    color_registers = [int(i,16) for i in lines[i+129].split()[1:10]]\n",
    "    ram_history += [(pixel_ram, color_registers, display_list)]"
   ]
  },
  {
   "cell_type": "markdown",
   "metadata": {},
   "source": [
    "Helper functions for implementing the display list entries"
   ]
  },
  {
   "cell_type": "code",
   "execution_count": 2,
   "metadata": {},
   "outputs": [],
   "source": [
    "def getByteForAddress(address,scr):\n",
    "    if 0x7000 <= address < 0x8000:\n",
    "        return scr[address - 0x7000]\n",
    "    return 0\n",
    "\n",
    "def drawBlankLines(pixels, byte, y, num, scr):\n",
    "    #pixels[x, y] = ImageColor.getrgb('#000000')\n",
    "    return num\n",
    "\n",
    "def drawScanLine(pixels, byte, y, num, scr):\n",
    "    for x in range(0,40):\n",
    "        byte = getByteForAddress(address+x, scr)\n",
    "        left_nibble = byte >> 4 & 0x0F \n",
    "        right_nibble = byte & 0x0F\n",
    "        for n in range(0,4):\n",
    "            pixels[y][(x*8)+n] = col_register[left_nibble]\n",
    "        for n in range(0,4):\n",
    "            pixels[y][(x*8)+n+4] = col_register[right_nibble]\n",
    "    return 1\n",
    "\n",
    "dlist_dict = {\n",
    "    0x70: (drawBlankLines,1,1),\n",
    "    0x90: (drawBlankLines,1,1),\n",
    "    0x46: (drawBlankLines,3,1),\n",
    "    0x4F: (drawScanLine,  3,1),\n",
    "}\n",
    "def display_list_entry(dl):\n",
    "    # Consume entries in the display list one by one.\n",
    "    i = 0\n",
    "    while i < len(dl):\n",
    "        b = dl[i]\n",
    "        if b not in dlist_dict:\n",
    "            yield (None,None,None,None,None)\n",
    "        draw, advance, lines = dlist_dict[b]\n",
    "        address = (dl[i+2]<<8 | dl[i+1]) if advance > 1 else 0\n",
    "        i += advance\n",
    "        yield (b, draw, address, lines,i)\n"
   ]
  },
  {
   "cell_type": "markdown",
   "metadata": {},
   "source": [
    "Read in the ram  history and paint a png file using the display lists and the pixel data."
   ]
  },
  {
   "cell_type": "code",
   "execution_count": 3,
   "metadata": {},
   "outputs": [],
   "source": [
    "ROWS = 192\n",
    "COLS = 320\n",
    "\n",
    "pixel_history = []\n",
    "#selected = [ram_history[x] for x in [188,236]]\n",
    "for j, (scr, col_register, display_list) in enumerate(ram_history):\n",
    "    pixels = [[0 for i in range(0,COLS)] for i in range(0,ROWS)]\n",
    "    dlist = display_list_entry(display_list)\n",
    "    x,y = 0,0\n",
    "    while True:\n",
    "        token, draw, address, num, i = next(dlist)\n",
    "        if draw == None:\n",
    "            break\n",
    "        y += draw(pixels, address, y, num, scr)\n",
    "    pixel_history+= [pixels]"
   ]
  },
  {
   "cell_type": "code",
   "execution_count": 23,
   "metadata": {},
   "outputs": [
    {
     "data": {
      "text/plain": [
       "34"
      ]
     },
     "execution_count": 23,
     "metadata": {},
     "output_type": "execute_result"
    }
   ],
   "source": [
    "flatten = lambda l: [e for sublist in l for e in sublist]\n",
    "\n",
    "pattern_breaks = []\n",
    "for i,h in enumerate(pixel_history):\n",
    "    num_pixels = sum(flatten(h))\n",
    "    if num_pixels > 1:\n",
    "        continue\n",
    "    pattern_breaks += [i]\n",
    "\n",
    "patterns = []\n",
    "pp = 0\n",
    "for p in pattern_breaks:\n",
    "    patterns += [pixel_history[pp:p]]\n",
    "    pp = p\n",
    "len(patterns)"
   ]
  },
  {
   "cell_type": "code",
   "execution_count": 21,
   "metadata": {},
   "outputs": [],
   "source": [
    "# Fix up the patterns\n",
    "del patterns[2]\n",
    "del patterns[3]\n",
    "del patterns[4]\n",
    "del patterns[5]\n",
    "del patterns[7]\n",
    "del patterns[9]\n",
    "del patterns[11]\n",
    "del patterns[13]\n"
   ]
  },
  {
   "cell_type": "code",
   "execution_count": 16,
   "metadata": {},
   "outputs": [],
   "source": [
    "def firstNonZero(l):\n",
    "    for i,e in enumerate(l):\n",
    "        if e > 0:\n",
    "            return i\n",
    "    return i\n",
    "\n",
    "def getLeftMostPixelForPattern(pattern):\n",
    "    return min([firstNonZero(r) for scr in pattern for r in scr])\n",
    "\n",
    "def getRightMostPixelForPattern(pattern):\n",
    "    return len(pattern[0][0]) - min([firstNonZero(list(reversed(r)))\n",
    "                     for scr in pattern for r in scr])\n",
    "\n",
    "def rotatePatternToCols(pattern):\n",
    "    pattern_cols = []\n",
    "    for scr in pattern:\n",
    "        col_arr = [[0 for i in range(len(scr))] for j in range(len(scr[0]))]\n",
    "        for i,r in enumerate(scr):\n",
    "            for j,v in enumerate(r):\n",
    "                col_arr[j][i] = v\n",
    "        pattern_cols += [col_arr]\n",
    "    return pattern_cols\n",
    "\n",
    "def cullPattern(pattern):\n",
    "    first_left = getLeftMostPixelForPattern(pattern)\n",
    "    last_right = getRightMostPixelForPattern(pattern)\n",
    "    width = last_right - first_left\n",
    "\n",
    "    pattern_as_cols = rotatePatternToCols(pattern)\n",
    "    first_top = getLeftMostPixelForPattern(pattern_as_cols)\n",
    "    last_bottom = getRightMostPixelForPattern(pattern_as_cols)\n",
    "    height = last_bottom - first_top\n",
    "    \n",
    "    culled = [[r[first_left:last_right] \n",
    "              for r in scr[first_top:last_bottom]]\n",
    "              for scr in pattern]\n",
    "    return culled\n",
    "\n"
   ]
  },
  {
   "cell_type": "code",
   "execution_count": 17,
   "metadata": {},
   "outputs": [],
   "source": [
    "from PIL import Image, ImageColor\n",
    "import colorspace_colors as cc\n"
   ]
  },
  {
   "cell_type": "code",
   "execution_count": 22,
   "metadata": {},
   "outputs": [],
   "source": [
    "# Select our pattern\n",
    "import os\n",
    "\n",
    "for i, pattern in enumerate(patterns):\n",
    "    cull_pattern = cullPattern(pattern)\n",
    "    for j, screen in enumerate(cull_pattern):\n",
    "        cols=len(screen[0])\n",
    "        rows=len(screen)\n",
    "        img = Image.new( 'RGB', (cols,rows), \"black\")\n",
    "        pixels = img.load()\n",
    "        for y, row in enumerate(screen):\n",
    "            for x, col in enumerate(row):\n",
    "                # Skip black, white and gray cells\n",
    "                if col in [0,1,0x0c]:\n",
    "                    continue\n",
    "                color =  cc.color_value_to_html[col]\n",
    "                pixels[x, y] = ImageColor.getrgb(color)\n",
    "        img = img.resize((img.width * 4, img.height * 4), Image.NEAREST)\n",
    "        img.save(f\"colorspace_patterns/pixels/pixel_pattern{i}_{j}.png\")\n"
   ]
  },
  {
   "cell_type": "code",
   "execution_count": null,
   "metadata": {},
   "outputs": [],
   "source": [
    "\n",
    "\n",
    "\n",
    "\n",
    "\n",
    "\n",
    "\n",
    "\n",
    "\n",
    "\n",
    "\n",
    "\n",
    "\n",
    "\n",
    "\n",
    "\n",
    "\n"
   ]
  }
 ],
 "metadata": {
  "kernelspec": {
   "display_name": "Python 3 (ipykernel)",
   "language": "python",
   "name": "python3"
  },
  "language_info": {
   "codemirror_mode": {
    "name": "ipython",
    "version": 3
   },
   "file_extension": ".py",
   "mimetype": "text/x-python",
   "name": "python",
   "nbconvert_exporter": "python",
   "pygments_lexer": "ipython3",
   "version": "3.10.12"
  }
 },
 "nbformat": 4,
 "nbformat_minor": 4
}
