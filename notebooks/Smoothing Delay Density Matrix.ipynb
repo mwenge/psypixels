{
 "cells": [
  {
   "cell_type": "markdown",
   "metadata": {},
   "source": [
    "# Make Volumetric Graphs of Delay"
   ]
  },
  {
   "cell_type": "code",
   "execution_count": 2,
   "metadata": {},
   "outputs": [],
   "source": [
    "colors_base = {\n",
    "\"00\":\"c64_black\",  \n",
    "\"01\":\"c64_white\",  \n",
    "\"02\":\"c64_red\",    \n",
    "\"03\":\"c64_cyan\",   \n",
    "\"04\":\"c64_purple\", \n",
    "\"05\":\"c64_green\",  \n",
    "\"06\":\"c64_blue\",   \n",
    "\"07\":\"c64_yellow\", \n",
    "\"08\":\"c64_orange\", \n",
    "\"09\":\"c64_brown\",  \n",
    "\"0a\":\"c64_ltred\",  \n",
    "\"0b\":\"c64_gray1\",  \n",
    "\"0c\":\"c64_lightgray\",  \n",
    "\"0d\":\"c64_ltgreen\",\n",
    "\"0e\":\"c64_ltblue\", \n",
    "\"0f\":\"c64_gray3\",  \n",
    "}\n",
    "colors = [v for k,v in colors_base.items()]\n",
    "    \n",
    "c64_to_rgb = {\n",
    "\"c64_black\": \"#000000\",     \n",
    "\"c64_white\": \"#ffffff\",     \n",
    "\"c64_red\": \"#880000\",       \n",
    "\"c64_cyan\":  \"#aaffee\",     \n",
    "\"c64_purple\": \"#cc44cc\",    \n",
    "\"c64_green\": \"#00cc55\",     \n",
    "#\"c64_blue\":  \"#0000aa\",     \n",
    "\"c64_blue\":  \"#0088ff\",     \n",
    "\"c64_yellow\":  \"#eeee77\",   \n",
    "\"c64_orange\":  \"#dd8855\",   \n",
    "\"c64_brown\": \"#664400\",     \n",
    "\"c64_ltred\": \"#ff7777\",  \n",
    "\"c64_gray1\":  \"#333333\",    \n",
    "\"c64_ltgreen\": \"#aaff66\",\n",
    "\"c64_ltblue\":  \"#0088ff\",\n",
    "\"c64_lightgrey\": \"#bbbbbb\", \n",
    "\"c64_lightgray\": \"#bbbbbb\", \n",
    "\"c64_gray3\": \"#bbbbbb\",                             \n",
    "}\n"
   ]
  },
  {
   "cell_type": "markdown",
   "metadata": {},
   "source": [
    "Run the following command:\n",
    "```sh\n",
    "~/Dev/vice-emu-code/vice/src/x64sc -directory ~/Dev/vice-emu-code/vice/data/ -moncommands painttrace.txt bin/psychedelia.prg \n",
    "```\n",
    "Where `painttrace.txt` is:\n",
    "\n",
    "```\n",
    "log on\n",
    "logname \"PsychedeliaIndividualPatterns.txt\"\n",
    "tr exec 0973\n",
    "command 1 \"mem d800 dbff\"\n",
    "```"
   ]
  },
  {
   "cell_type": "markdown",
   "metadata": {},
   "source": [
    "Read in the ram history."
   ]
  },
  {
   "cell_type": "code",
   "execution_count": 72,
   "metadata": {},
   "outputs": [],
   "source": [
    "log_file = \"PsychedeliaDelayPaintTrace.txt\"\n",
    "input_file = open(log_file,'r')\n",
    "\n",
    "ram_history = []\n",
    "lines = input_file.readlines()\n",
    "c = 0\n",
    "for i in range(5, len(lines), 67):\n",
    "    raw_ram = [l[9:60].split() for l in lines[i:i+64]]\n",
    "    raw_ram = [int(v,16) & 0x0f for l in raw_ram for v in l]\n",
    "    color_ram = list(reversed([raw_ram[v:v+40] for v in range(0, len(raw_ram), 40)]))[2:]\n",
    "    ram_history += [color_ram]\n",
    "    c += 1\n"
   ]
  },
  {
   "cell_type": "markdown",
   "metadata": {},
   "source": [
    "Slice up the ram history into the different patterns."
   ]
  },
  {
   "cell_type": "code",
   "execution_count": 186,
   "metadata": {},
   "outputs": [],
   "source": [
    "flatten = lambda l: [e for sublist in l for e in sublist]\n",
    "\n",
    "pattern_breaks = []\n",
    "for i,h in enumerate(ram_history):\n",
    "    num_pixels = sum(flatten(h))\n",
    "    if num_pixels > 1:\n",
    "        continue\n",
    "    pattern_breaks += [i]\n",
    "\n",
    "npb = []\n",
    "pp = 0\n",
    "MAX_GAP = 15\n",
    "for p in pattern_breaks:\n",
    "    if p - pp < MAX_GAP:\n",
    "        pp = p\n",
    "        continue\n",
    "    npb += [pp]\n",
    "    pp = p\n",
    "npb += [pp]\n",
    "\n",
    "patterns = []\n",
    "pp = -1\n",
    "for p in npb:\n",
    "    patterns += [ram_history[pp:p]]\n",
    "    pp = p\n",
    "patterns = patterns[1:]"
   ]
  },
  {
   "cell_type": "code",
   "execution_count": 187,
   "metadata": {},
   "outputs": [
    {
     "data": {
      "text/plain": [
       "[279, 224]"
      ]
     },
     "execution_count": 187,
     "metadata": {},
     "output_type": "execute_result"
    }
   ],
   "source": [
    "[len(p) for p in patterns]"
   ]
  },
  {
   "cell_type": "code",
   "execution_count": 189,
   "metadata": {},
   "outputs": [
    {
     "name": "stdout",
     "output_type": "stream",
     "text": [
      "17\n",
      "15\n"
     ]
    }
   ],
   "source": [
    "from PIL import Image, ImageColor\n",
    "import os\n",
    "\n",
    "def aggregatePattern(patt):\n",
    "    agg_pattern = [[[] for i in range(40)] for i in range(24)]\n",
    "    for p in patt:\n",
    "        for r,row in enumerate(p):\n",
    "            for c,col in enumerate(row):\n",
    "                if col:\n",
    "                    agg_pattern[r][c] += [col]\n",
    "    return agg_pattern\n",
    "\n",
    "for pn, patt in enumerate(patterns):\n",
    "    no_pixels = len(patt)\n",
    "    agg_pattern = aggregatePattern(patt)\n",
    "    cell_hw = math.ceil(math.sqrt(no_pixels)) \n",
    "    print(cell_hw)\n",
    "    screen_rows = 40\n",
    "    screen_cols = 24\n",
    "\n",
    "    img = Image.new( 'RGB', ((screen_rows*cell_hw),\n",
    "                             (screen_cols*cell_hw)), \"black\")\n",
    "    pixels = img.load()\n",
    "    for r,row in enumerate(agg_pattern):\n",
    "        y_o = (r * cell_hw) + 1\n",
    "        for c,cell_pixels in enumerate(row):\n",
    "            x_o = (c * cell_hw) + 1\n",
    "            for i,px in enumerate(cell_pixels):\n",
    "                x = i % (cell_hw - 1)\n",
    "                y = math.floor((i / (cell_hw))) \n",
    "                color = ImageColor.getrgb(c64_to_rgb[colors[px]])\n",
    "                pixels[x_o+x, y_o+y] = color\n",
    "    img = img.resize((img.width * 4, img.height * 4), Image.NEAREST)\n",
    "    img.save(f\"delay/pixelhist-{pn}.png\")"
   ]
  },
  {
   "cell_type": "code",
   "execution_count": null,
   "metadata": {},
   "outputs": [],
   "source": [
    "\n",
    "\n",
    "\n",
    "\n",
    "\n",
    "\n",
    "\n",
    "\n",
    "\n",
    "\n",
    "\n",
    "\n",
    "\n",
    "\n",
    "\n",
    "\n",
    "\n"
   ]
  }
 ],
 "metadata": {
  "kernelspec": {
   "display_name": "Python 3",
   "language": "python",
   "name": "python3"
  },
  "language_info": {
   "codemirror_mode": {
    "name": "ipython",
    "version": 3
   },
   "file_extension": ".py",
   "mimetype": "text/x-python",
   "name": "python",
   "nbconvert_exporter": "python",
   "pygments_lexer": "ipython3",
   "version": "3.8.10"
  }
 },
 "nbformat": 4,
 "nbformat_minor": 4
}
