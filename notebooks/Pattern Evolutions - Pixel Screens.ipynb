{
 "cells": [
  {
   "cell_type": "markdown",
   "metadata": {},
   "source": [
    "# Make Pixel Screens of Pattern Evolution"
   ]
  },
  {
   "cell_type": "code",
   "execution_count": 1,
   "metadata": {},
   "outputs": [],
   "source": [
    "colors_base = {\n",
    "\"00\":\"c64_black\",  \n",
    "\"01\":\"c64_white\",  \n",
    "\"02\":\"c64_red\",    \n",
    "\"03\":\"c64_cyan\",   \n",
    "\"04\":\"c64_purple\", \n",
    "\"05\":\"c64_green\",  \n",
    "\"06\":\"c64_blue\",   \n",
    "\"07\":\"c64_yellow\", \n",
    "\"08\":\"c64_orange\", \n",
    "\"09\":\"c64_brown\",  \n",
    "\"0a\":\"c64_ltred\",  \n",
    "\"0b\":\"c64_gray1\",  \n",
    "\"0c\":\"c64_lightgray\",  \n",
    "\"0d\":\"c64_ltgreen\",\n",
    "\"0e\":\"c64_ltblue\", \n",
    "\"0f\":\"c64_gray3\",  \n",
    "}\n",
    "colors = [v for k,v in colors_base.items()]\n",
    "    \n",
    "c64_to_rgb = {\n",
    "\"c64_black\": \"#000000\",     \n",
    "\"c64_white\": \"#ffffff\",     \n",
    "\"c64_red\": \"#880000\",       \n",
    "\"c64_cyan\":  \"#aaffee\",     \n",
    "\"c64_purple\": \"#cc44cc\",    \n",
    "\"c64_green\": \"#00cc55\",     \n",
    "#\"c64_blue\":  \"#0000aa\",     \n",
    "\"c64_blue\":  \"#0088ff\",     \n",
    "\"c64_yellow\":  \"#eeee77\",   \n",
    "\"c64_orange\":  \"#dd8855\",   \n",
    "\"c64_brown\": \"#664400\",     \n",
    "\"c64_ltred\": \"#ff7777\",  \n",
    "\"c64_gray1\":  \"#333333\",    \n",
    "\"c64_ltgreen\": \"#aaff66\",\n",
    "\"c64_ltblue\":  \"#0088ff\",\n",
    "\"c64_lightgrey\": \"#bbbbbb\", \n",
    "\"c64_lightgray\": \"#bbbbbb\", \n",
    "\"c64_gray3\": \"#bbbbbb\",                             \n",
    "}\n"
   ]
  },
  {
   "cell_type": "markdown",
   "metadata": {},
   "source": [
    "Run the following command:\n",
    "```sh\n",
    "~/Dev/vice-emu-code/vice/src/x64sc -directory ~/Dev/vice-emu-code/vice/data/ -moncommands painttrace.txt bin/psychedelia.prg \n",
    "```\n",
    "Where `painttrace.txt` is:\n",
    "\n",
    "```\n",
    "log on\n",
    "logname \"PsychedeliaIndividualPatterns.txt\"\n",
    "tr exec 0973\n",
    "command 1 \"mem d800 dbff\"\n",
    "```"
   ]
  },
  {
   "cell_type": "markdown",
   "metadata": {},
   "source": [
    "Read in the ram history."
   ]
  },
  {
   "cell_type": "code",
   "execution_count": 45,
   "metadata": {},
   "outputs": [],
   "source": [
    "log_file = \"PsychedeliaIndividualPatterns.txt\"\n",
    "input_file = open(log_file,'r')\n",
    "\n",
    "ram_history = []\n",
    "lines = input_file.readlines()\n",
    "c = 0\n",
    "for i in range(5, len(lines), 67):\n",
    "    raw_ram = [l[9:60].split() for l in lines[i:i+64]]\n",
    "    raw_ram = [int(v,16) & 0x0f for l in raw_ram for v in l]\n",
    "    color_ram = [raw_ram[v:v+40] for v in range(0, len(raw_ram), 40)][:-2]\n",
    "    ram_history += [color_ram]\n",
    "    c += 1\n"
   ]
  },
  {
   "cell_type": "markdown",
   "metadata": {},
   "source": [
    "Slice up the ram history into the different patterns."
   ]
  },
  {
   "cell_type": "code",
   "execution_count": 76,
   "metadata": {},
   "outputs": [],
   "source": [
    "flatten = lambda l: [e for sublist in l for e in sublist]\n",
    "\n",
    "pattern_breaks = []\n",
    "for i,h in enumerate(ram_history):\n",
    "    num_pixels = sum(flatten(h))\n",
    "    if num_pixels > 1:\n",
    "        continue\n",
    "    pattern_breaks += [i]\n",
    "\n",
    "patterns = []\n",
    "pp = -1\n",
    "for p in pattern_breaks:\n",
    "    if len(ram_history[pp+1:p]) > 1:\n",
    "        patterns += [ram_history[pp+1:p]]\n",
    "    pp = p\n"
   ]
  },
  {
   "cell_type": "markdown",
   "metadata": {},
   "source": [
    "Methods for culling the pixel data to just the volume that's occupied."
   ]
  },
  {
   "cell_type": "code",
   "execution_count": 60,
   "metadata": {},
   "outputs": [],
   "source": [
    "def firstNonZero(l):\n",
    "    for i,e in enumerate(l):\n",
    "        if e > 0:\n",
    "            return i\n",
    "    return i\n",
    "\n",
    "def getLeftMostPixelForPattern(pattern):\n",
    "    return min([firstNonZero(r) for scr in pattern for r in scr])\n",
    "\n",
    "def getRightMostPixelForPattern(pattern):\n",
    "    return len(pattern[0][0]) - min([firstNonZero(list(reversed(r)))\n",
    "                     for scr in pattern for r in scr])\n",
    "\n",
    "def rotatePatternToCols(pattern):\n",
    "    pattern_cols = []\n",
    "    for scr in pattern:\n",
    "        col_arr = [[0 for i in range(len(scr))] for j in range(len(scr[0]))]\n",
    "        for i,r in enumerate(scr):\n",
    "            for j,v in enumerate(r):\n",
    "                col_arr[j][i] = v\n",
    "        pattern_cols += [col_arr]\n",
    "    return pattern_cols\n",
    "\n",
    "def cullPattern(pattern):\n",
    "    first_left = getLeftMostPixelForPattern(pattern)\n",
    "    last_right = getRightMostPixelForPattern(pattern)\n",
    "    width = last_right - first_left\n",
    "\n",
    "    pattern_as_cols = rotatePatternToCols(pattern)\n",
    "    first_top = getLeftMostPixelForPattern(pattern_as_cols)\n",
    "    last_bottom = getRightMostPixelForPattern(pattern_as_cols)\n",
    "    height = last_bottom - first_top\n",
    "    \n",
    "    culled = [[r[first_left:last_right] \n",
    "              for r in scr[first_top:last_bottom]]\n",
    "              for scr in pattern]\n",
    "    return culled\n",
    "\n",
    "#cullPattern(patterns[0])\n",
    "#patterns[0]"
   ]
  },
  {
   "cell_type": "markdown",
   "metadata": {},
   "source": [
    "Write a series of png files one for each stage of the evolution of the pattern"
   ]
  },
  {
   "cell_type": "code",
   "execution_count": 77,
   "metadata": {},
   "outputs": [],
   "source": [
    "from PIL import Image, ImageColor\n",
    "\n",
    "bit_array = ([['0' for i in range(8)]] \n",
    "            + [['0']+['1' for i in range(6)]+['0'] for j in range(6)] \n",
    "            + [['0' for i in range(8)]])\n",
    "\n",
    "def paintChar(origin, pixels, cv):\n",
    "    c, r = origin\n",
    "    x_o, y_o = c*8, r*8\n",
    "    for y, l in enumerate(bit_array):\n",
    "        for x,bit in enumerate(l):\n",
    "            if bit == \"0\":\n",
    "                continue\n",
    "            color = c64_to_rgb[colors[cv]]\n",
    "            pixels[x_o+x, y_o+y] = ImageColor.getrgb(color)\n",
    "\n",
    "\n",
    "for i,pattern in enumerate(patterns):\n",
    "    cull_pattern = cullPattern(pattern)\n",
    "    for j, scr in enumerate(cull_pattern):\n",
    "        cols=len(scr[0])0\n",
    "        rows=len(scr)\n",
    "        bits=8\n",
    "        img = Image.new( 'RGB', (cols*bits,rows*bits), \"black\")\n",
    "        pixels = img.load()\n",
    "        for y, l in enumerate(scr):\n",
    "            for x, v in enumerate(l):\n",
    "                paintChar((x,y), pixels, v)\n",
    "        img = img.resize((img.width * 4, img.height * 4), Image.NEAREST)\n",
    "        img.save(f\"patterns/pixels/pixel_pattern{i}_{j}.png\")\n",
    "\n"
   ]
  },
  {
   "cell_type": "markdown",
   "metadata": {},
   "source": [
    "Create top down evolution images"
   ]
  },
  {
   "cell_type": "code",
   "execution_count": 84,
   "metadata": {},
   "outputs": [],
   "source": [
    "for i,pattern in enumerate(patterns):\n",
    "    cull_pattern = cullPattern(pattern)\n",
    "    screen_rows = len(cull_pattern[0])\n",
    "    screen_cols = len(cull_pattern[0][0])\n",
    "    cols = len(pattern)\n",
    "    rows = screen_rows * screen_cols\n",
    "    bits=8\n",
    "    img = Image.new( 'RGB', (cols*bits,rows*bits), \"black\")\n",
    "    pixels = img.load()\n",
    "    for x, scr in enumerate(cull_pattern):\n",
    "        for y2, l in enumerate(scr):\n",
    "            for x2, v in enumerate(l):\n",
    "                y = (y2 * screen_cols) + x2\n",
    "                paintChar((x,y), pixels, v)\n",
    "    img = img.resize((img.width * 4, img.height * 4), Image.NEAREST)\n",
    "    img.save(f\"patterns/pixels-topdown/pixel_pattern{i}.png\")\n",
    "\n",
    "\n"
   ]
  },
  {
   "cell_type": "code",
   "execution_count": null,
   "metadata": {},
   "outputs": [],
   "source": [
    "segment = ram_history[:300]\n",
    "screen_rows = len(ram_history[0])\n",
    "screen_cols = len(ram_history[0][0])\n",
    "cols = len(segment)\n",
    "rows = screen_rows * screen_cols\n",
    "bits=8\n",
    "img = Image.new( 'RGB', (cols*bits,rows*bits), \"black\")\n",
    "pixels = img.load()\n",
    "for x, scr in enumerate(segment):\n",
    "    for y2, l in enumerate(scr):\n",
    "        for x2, v in enumerate(l):\n",
    "            y = (y2 * screen_cols) + x2\n",
    "            paintChar((x,y), pixels, v)\n",
    "#img = img.resize((img.width * 4, img.height * 4), Image.NEAREST)\n",
    "#img.save(f\"patterns/pixels/pixel_pattern{i}_{j}.png\")\n",
    "img\n"
   ]
  },
  {
   "cell_type": "code",
   "execution_count": null,
   "metadata": {},
   "outputs": [],
   "source": [
    "\n",
    "\n",
    "\n",
    "\n",
    "\n",
    "\n",
    "\n",
    "\n",
    "\n",
    "\n",
    "\n",
    "\n",
    "\n",
    "\n",
    "\n",
    "\n",
    "\n"
   ]
  }
 ],
 "metadata": {
  "kernelspec": {
   "display_name": "Python 3",
   "language": "python",
   "name": "python3"
  },
  "language_info": {
   "codemirror_mode": {
    "name": "ipython",
    "version": 3
   },
   "file_extension": ".py",
   "mimetype": "text/x-python",
   "name": "python",
   "nbconvert_exporter": "python",
   "pygments_lexer": "ipython3",
   "version": "3.8.10"
  }
 },
 "nbformat": 4,
 "nbformat_minor": 4
}
