{
 "cells": [
  {
   "cell_type": "code",
   "execution_count": 7,
   "id": "5d0a436a",
   "metadata": {},
   "outputs": [],
   "source": [
    "from pdf2image import convert_from_path\n",
    "images = convert_from_path('../out/psychedelia_syndrome.pdf', 200)"
   ]
  },
  {
   "cell_type": "code",
   "execution_count": 9,
   "id": "bb00f220",
   "metadata": {},
   "outputs": [],
   "source": [
    "images[24].save(\"test.png\")"
   ]
  },
  {
   "cell_type": "code",
   "execution_count": null,
   "id": "891f0596",
   "metadata": {},
   "outputs": [],
   "source": [
    "file_name = 'ping_from_ai_test.png'\n",
    "file_number = 0\n",
    "for image in images:\n",
    "    file_number =+ 1\n",
    "    file_name = 'ping_from_ai_test' + str(file_number) + '.png'\n",
    "    image.save(file_name)"
   ]
  }
 ],
 "metadata": {
  "kernelspec": {
   "display_name": "Python 3 (ipykernel)",
   "language": "python",
   "name": "python3"
  },
  "language_info": {
   "codemirror_mode": {
    "name": "ipython",
    "version": 3
   },
   "file_extension": ".py",
   "mimetype": "text/x-python",
   "name": "python",
   "nbconvert_exporter": "python",
   "pygments_lexer": "ipython3",
   "version": "3.10.12"
  }
 },
 "nbformat": 4,
 "nbformat_minor": 5
}
